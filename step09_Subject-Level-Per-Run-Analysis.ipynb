{
 "cells": [
  {
   "cell_type": "code",
   "execution_count": 1,
   "metadata": {
    "tags": []
   },
   "outputs": [],
   "source": [
    "# conda activate WeatherModel\n",
    "\n",
    "from bids.layout import BIDSLayout\n",
    "\n",
    "import numpy as np\n",
    "\n",
    "import pandas as pd\n",
    "\n",
    "from nilearn.glm.first_level import FirstLevelModel\n",
    "\n",
    "from nilearn.plotting import plot_design_matrix\n",
    "\n",
    "from nilearn.plotting import plot_stat_map, plot_glass_brain\n",
    "\n",
    "from nilearn.glm.thresholding import threshold_stats_img\n",
    "\n",
    "import matplotlib.pyplot as plt\n",
    "\n",
    "import warnings\n",
    "from nilearn import plotting\n",
    "from nilearn.reporting import get_clusters_table\n",
    "\n",
    "# Avoid getting warnings\n",
    "with warnings.catch_warnings():\n",
    "    warnings.simplefilter(\"ignore\")\n",
    "    \n",
    "import os\n",
    "import sys\n",
    "    "
   ]
  },
  {
   "cell_type": "code",
   "execution_count": 2,
   "metadata": {
    "tags": []
   },
   "outputs": [],
   "source": [
    "# fixed variables \n",
    "\n",
    "ds_path = '/Users/jonathantsay/GestureContextPilot/CodeForExp/JT_Semantomotor/data/bids'\n",
    "\n",
    "# Initialize the BIDS layout and include the derivatives in it\n",
    "layout = BIDSLayout(ds_path, derivatives = True)\n",
    "layout.add_derivatives(os.path.join(ds_path, \"results\", \"first-level\"))\n",
    "\n",
    "TR = layout.get_tr()\n",
    "confounds_of_interest = ['trans_x', 'trans_y', 'trans_z', 'rot_x', 'rot_y', 'rot_z']\n",
    "\n"
   ]
  },
  {
   "cell_type": "code",
   "execution_count": 3,
   "metadata": {
    "tags": []
   },
   "outputs": [
    {
     "name": "stderr",
     "output_type": "stream",
     "text": [
      "/Users/jonathantsay/anaconda3/envs/WeatherModel/lib/python3.11/site-packages/nilearn/glm/first_level/experimental_paradigm.py:88: UserWarning: Unexpected column 'jitter.started' in events data. It will be ignored.\n",
      "  warnings.warn(\n",
      "/Users/jonathantsay/anaconda3/envs/WeatherModel/lib/python3.11/site-packages/nilearn/glm/first_level/experimental_paradigm.py:88: UserWarning: Unexpected column 'ms_txt' in events data. It will be ignored.\n",
      "  warnings.warn(\n",
      "/Users/jonathantsay/anaconda3/envs/WeatherModel/lib/python3.11/site-packages/nilearn/glm/first_level/experimental_paradigm.py:88: UserWarning: Unexpected column 'trial_fixation.started' in events data. It will be ignored.\n",
      "  warnings.warn(\n",
      "/Users/jonathantsay/anaconda3/envs/WeatherModel/lib/python3.11/site-packages/nilearn/glm/first_level/experimental_paradigm.py:88: UserWarning: Unexpected column 'gesture_image' in events data. It will be ignored.\n",
      "  warnings.warn(\n",
      "/Users/jonathantsay/anaconda3/envs/WeatherModel/lib/python3.11/site-packages/nilearn/glm/first_level/experimental_paradigm.py:114: FutureWarning: The provided callable <function sum at 0x10aa19300> is currently using SeriesGroupBy.sum. In a future version of pandas, the provided callable will be used directly. To keep current behavior pass the string \"sum\" instead.\n",
      "  .agg(STRATEGY)\n"
     ]
    },
    {
     "name": "stdout",
     "output_type": "stream",
     "text": [
      "/Users/jonathantsay/GestureContextPilot/CodeForExp/JT_Semantomotor/data/bids/results/first-level/sub-04/sub-04_task-gesture_run-01_desc-concrete_effect_size.nii.gz\n"
     ]
    },
    {
     "name": "stderr",
     "output_type": "stream",
     "text": [
      "/Users/jonathantsay/anaconda3/envs/WeatherModel/lib/python3.11/site-packages/nilearn/glm/first_level/experimental_paradigm.py:88: UserWarning: Unexpected column 'jitter.started' in events data. It will be ignored.\n",
      "  warnings.warn(\n",
      "/Users/jonathantsay/anaconda3/envs/WeatherModel/lib/python3.11/site-packages/nilearn/glm/first_level/experimental_paradigm.py:88: UserWarning: Unexpected column 'ms_txt' in events data. It will be ignored.\n",
      "  warnings.warn(\n",
      "/Users/jonathantsay/anaconda3/envs/WeatherModel/lib/python3.11/site-packages/nilearn/glm/first_level/experimental_paradigm.py:88: UserWarning: Unexpected column 'trial_fixation.started' in events data. It will be ignored.\n",
      "  warnings.warn(\n",
      "/Users/jonathantsay/anaconda3/envs/WeatherModel/lib/python3.11/site-packages/nilearn/glm/first_level/experimental_paradigm.py:88: UserWarning: Unexpected column 'gesture_image' in events data. It will be ignored.\n",
      "  warnings.warn(\n",
      "/Users/jonathantsay/anaconda3/envs/WeatherModel/lib/python3.11/site-packages/nilearn/glm/first_level/experimental_paradigm.py:114: FutureWarning: The provided callable <function sum at 0x10aa19300> is currently using SeriesGroupBy.sum. In a future version of pandas, the provided callable will be used directly. To keep current behavior pass the string \"sum\" instead.\n",
      "  .agg(STRATEGY)\n"
     ]
    },
    {
     "name": "stdout",
     "output_type": "stream",
     "text": [
      "/Users/jonathantsay/GestureContextPilot/CodeForExp/JT_Semantomotor/data/bids/results/first-level/sub-04/sub-04_task-gesture_run-02_desc-concrete_effect_size.nii.gz\n"
     ]
    },
    {
     "name": "stderr",
     "output_type": "stream",
     "text": [
      "/Users/jonathantsay/anaconda3/envs/WeatherModel/lib/python3.11/site-packages/nilearn/glm/first_level/experimental_paradigm.py:88: UserWarning: Unexpected column 'jitter.started' in events data. It will be ignored.\n",
      "  warnings.warn(\n",
      "/Users/jonathantsay/anaconda3/envs/WeatherModel/lib/python3.11/site-packages/nilearn/glm/first_level/experimental_paradigm.py:88: UserWarning: Unexpected column 'ms_txt' in events data. It will be ignored.\n",
      "  warnings.warn(\n",
      "/Users/jonathantsay/anaconda3/envs/WeatherModel/lib/python3.11/site-packages/nilearn/glm/first_level/experimental_paradigm.py:88: UserWarning: Unexpected column 'trial_fixation.started' in events data. It will be ignored.\n",
      "  warnings.warn(\n",
      "/Users/jonathantsay/anaconda3/envs/WeatherModel/lib/python3.11/site-packages/nilearn/glm/first_level/experimental_paradigm.py:88: UserWarning: Unexpected column 'gesture_image' in events data. It will be ignored.\n",
      "  warnings.warn(\n",
      "/Users/jonathantsay/anaconda3/envs/WeatherModel/lib/python3.11/site-packages/nilearn/glm/first_level/experimental_paradigm.py:114: FutureWarning: The provided callable <function sum at 0x10aa19300> is currently using SeriesGroupBy.sum. In a future version of pandas, the provided callable will be used directly. To keep current behavior pass the string \"sum\" instead.\n",
      "  .agg(STRATEGY)\n"
     ]
    },
    {
     "name": "stdout",
     "output_type": "stream",
     "text": [
      "/Users/jonathantsay/GestureContextPilot/CodeForExp/JT_Semantomotor/data/bids/results/first-level/sub-04/sub-04_task-gesture_run-03_desc-concrete_effect_size.nii.gz\n"
     ]
    },
    {
     "name": "stderr",
     "output_type": "stream",
     "text": [
      "/Users/jonathantsay/anaconda3/envs/WeatherModel/lib/python3.11/site-packages/nilearn/glm/first_level/experimental_paradigm.py:88: UserWarning: Unexpected column 'jitter.started' in events data. It will be ignored.\n",
      "  warnings.warn(\n",
      "/Users/jonathantsay/anaconda3/envs/WeatherModel/lib/python3.11/site-packages/nilearn/glm/first_level/experimental_paradigm.py:88: UserWarning: Unexpected column 'ms_txt' in events data. It will be ignored.\n",
      "  warnings.warn(\n",
      "/Users/jonathantsay/anaconda3/envs/WeatherModel/lib/python3.11/site-packages/nilearn/glm/first_level/experimental_paradigm.py:88: UserWarning: Unexpected column 'trial_fixation.started' in events data. It will be ignored.\n",
      "  warnings.warn(\n",
      "/Users/jonathantsay/anaconda3/envs/WeatherModel/lib/python3.11/site-packages/nilearn/glm/first_level/experimental_paradigm.py:88: UserWarning: Unexpected column 'gesture_image' in events data. It will be ignored.\n",
      "  warnings.warn(\n",
      "/Users/jonathantsay/anaconda3/envs/WeatherModel/lib/python3.11/site-packages/nilearn/glm/first_level/experimental_paradigm.py:114: FutureWarning: The provided callable <function sum at 0x10aa19300> is currently using SeriesGroupBy.sum. In a future version of pandas, the provided callable will be used directly. To keep current behavior pass the string \"sum\" instead.\n",
      "  .agg(STRATEGY)\n"
     ]
    },
    {
     "name": "stdout",
     "output_type": "stream",
     "text": [
      "/Users/jonathantsay/GestureContextPilot/CodeForExp/JT_Semantomotor/data/bids/results/first-level/sub-04/sub-04_task-gesture_run-04_desc-concrete_effect_size.nii.gz\n"
     ]
    },
    {
     "name": "stderr",
     "output_type": "stream",
     "text": [
      "/Users/jonathantsay/anaconda3/envs/WeatherModel/lib/python3.11/site-packages/nilearn/glm/first_level/experimental_paradigm.py:88: UserWarning: Unexpected column 'jitter.started' in events data. It will be ignored.\n",
      "  warnings.warn(\n",
      "/Users/jonathantsay/anaconda3/envs/WeatherModel/lib/python3.11/site-packages/nilearn/glm/first_level/experimental_paradigm.py:88: UserWarning: Unexpected column 'ms_txt' in events data. It will be ignored.\n",
      "  warnings.warn(\n",
      "/Users/jonathantsay/anaconda3/envs/WeatherModel/lib/python3.11/site-packages/nilearn/glm/first_level/experimental_paradigm.py:88: UserWarning: Unexpected column 'trial_fixation.started' in events data. It will be ignored.\n",
      "  warnings.warn(\n",
      "/Users/jonathantsay/anaconda3/envs/WeatherModel/lib/python3.11/site-packages/nilearn/glm/first_level/experimental_paradigm.py:88: UserWarning: Unexpected column 'gesture_image' in events data. It will be ignored.\n",
      "  warnings.warn(\n",
      "/Users/jonathantsay/anaconda3/envs/WeatherModel/lib/python3.11/site-packages/nilearn/glm/first_level/experimental_paradigm.py:114: FutureWarning: The provided callable <function sum at 0x10aa19300> is currently using SeriesGroupBy.sum. In a future version of pandas, the provided callable will be used directly. To keep current behavior pass the string \"sum\" instead.\n",
      "  .agg(STRATEGY)\n"
     ]
    },
    {
     "name": "stdout",
     "output_type": "stream",
     "text": [
      "/Users/jonathantsay/GestureContextPilot/CodeForExp/JT_Semantomotor/data/bids/results/first-level/sub-04/sub-04_task-gesture_run-05_desc-concrete_effect_size.nii.gz\n"
     ]
    }
   ],
   "source": [
    "\n",
    "sID = \"04\"\n",
    "runs = [0, 1, 2, 3, 4]\n",
    "\n",
    "bold = layout.get(subject=sID, datatype='func', space='T1w', desc='preproc', extension='.nii.gz', \\\n",
    "                 return_type='filename')\n",
    "events = layout.get(subject=sID, datatype='func', suffix='events', extension=\".tsv\", return_type='filename')\n",
    "confounds = layout.get(subject=sID, datatype='func', desc='confounds', extension=\".tsv\", return_type='filename')\n",
    "\n",
    "\n",
    "for run in runs:\n",
    "    \n",
    "    confounds_glm = []\n",
    "    this_conf = pd.read_table(confounds[run])\n",
    "    conf_subset = this_conf[confounds_of_interest].fillna(0) # replace NaN with 0\n",
    "    confounds_glm.append(conf_subset)\n",
    "\n",
    "    fmri_glm = FirstLevelModel(\n",
    "        t_r = TR,\n",
    "        slice_time_ref = TR/2,\n",
    "        hrf_model = 'spm',\n",
    "        drift_model = 'Cosine',\n",
    "        high_pass = 1./128,\n",
    "        smoothing_fwhm = 2,\n",
    "        noise_model = 'ar1'\n",
    "    )\n",
    "\n",
    "    fmri_glm = fmri_glm.fit(bold[run], events[run], confounds_glm)\n",
    "    \n",
    "    contrast_list = []\n",
    "    design_matrices = fmri_glm.design_matrices_\n",
    "    \n",
    "    for design_matrix in design_matrices:\n",
    "    \n",
    "        \"\"\"A small routine to append zeros in contrast vectors\"\"\"\n",
    "        n_columns = design_matrix.shape[1] #number of predictors in our model\n",
    "        def pad_vector(contrast_, n_columns):    \n",
    "            return np.hstack((contrast_, np.zeros(n_columns - len(contrast_))))\n",
    "    \n",
    "        contrasts = {'L1': pad_vector([1, 0, 0, 0, \n",
    "                                   0, 0, 0, 0, \n",
    "                                   0, 0, 0, 0], n_columns),\n",
    "                 'N1': pad_vector([0, 1, 0, 0, \n",
    "                                   0, 0, 0, 0, \n",
    "                                   0, 0, 0, 0], n_columns),\n",
    "                 'Ac1': pad_vector([0, 0, 1, 0, \n",
    "                                   0, 0, 0, 0, \n",
    "                                   0, 0, 0, 0], n_columns),\n",
    "                 'Ab1': pad_vector([0, 0, 0, 1, \n",
    "                                   0, 0, 0, 0, \n",
    "                                   0, 0, 0, 0], n_columns),\n",
    "                 'L2': pad_vector([0, 0, 0, 0, \n",
    "                                   1, 0, 0, 0, \n",
    "                                   0, 0, 0, 0], n_columns),\n",
    "                 'N2': pad_vector([0, 0, 0, 0, \n",
    "                                   0, 1, 0, 0, \n",
    "                                   0, 0, 0, 0], n_columns),\n",
    "                 'Ac2': pad_vector([0, 0, 0, 0, \n",
    "                                   0, 0, 1, 0, \n",
    "                                   0, 0, 0, 0], n_columns),\n",
    "                 'Ab2': pad_vector([0, 0, 0, 0, \n",
    "                                   0, 0, 0, 1, \n",
    "                                   0, 0, 0, 0], n_columns),\n",
    "                 'L3': pad_vector([0, 0, 0, 0, \n",
    "                                   0, 0, 0, 0, \n",
    "                                   1, 0, 0, 0], n_columns),\n",
    "                 'N3': pad_vector([0, 0, 0, 0, \n",
    "                                   0, 0, 0, 0, \n",
    "                                   0, 1, 0, 0], n_columns),\n",
    "                 'Ac3': pad_vector([0, 0, 0, 0, \n",
    "                                   0, 0, 0, 0, \n",
    "                                   0, 0, 1, 0], n_columns),\n",
    "                 'Ab3': pad_vector([0, 0, 0, 0, \n",
    "                                   0, 0, 0, 0, \n",
    "                                   0, 0, 0, 1], n_columns),\n",
    "                 'move': pad_vector([1, 1, 1, 1, \n",
    "                                     1, 1, 1, 1, \n",
    "                                     1, 1, 1, 1], n_columns), \n",
    "                 'palm': pad_vector([1, 1, 1, 1, \n",
    "                                     0, 0, 0, 0, \n",
    "                                     0, 0, 0, 0], n_columns),\n",
    "                 'fist': pad_vector([0, 0, 0, 0, \n",
    "                                     1, 1, 1, 1, \n",
    "                                     0, 0, 0, 0], n_columns),\n",
    "                 'peace': pad_vector([0, 0, 0, 0, \n",
    "                                      0, 0, 0, 0, \n",
    "                                     1, 1, 1, 1], n_columns), \n",
    "                 'letter': pad_vector([1, 0, 0, 0, \n",
    "                                       1, 0, 0, 0, \n",
    "                                       1, 0, 0, 0], n_columns), \n",
    "                 'number': pad_vector([0, 1, 0, 0, \n",
    "                                       0, 1, 0, 0, \n",
    "                                       0, 1, 0, 0], n_columns), \n",
    "                 'action': pad_vector([0, 0, 1, 0, \n",
    "                                       0, 0, 1, 0, \n",
    "                                       0, 0, 1, 0], n_columns), \n",
    "                 'abstract': pad_vector([0, 0, 0, 1, \n",
    "                                        0, 0, 0, 1, \n",
    "                                       0, 0, 0, 1], n_columns),\n",
    "                  'concrete': pad_vector([-1, -1, 1, 1, \n",
    "                                       -1, -1, 1, 1, \n",
    "                                       -1, -1, 1, 1], n_columns)}\n",
    "    \n",
    "        contrast_list.append(contrasts)\n",
    "        \n",
    "        model_name = 'first-level'\n",
    "\n",
    "        outdir = os.path.join(ds_path, 'results', model_name, 'sub-' + sID)\n",
    "        if not os.path.exists(outdir):\n",
    "            os.makedirs(outdir)\n",
    "    \n",
    "        stats_type = ['effect_size'] #['z_score', 'stat']\n",
    "        \n",
    "        for stats in stats_type:\n",
    "            for contrast_id in contrast_list[0].keys():    \n",
    "                stats_map = fmri_glm.compute_contrast(\n",
    "                [c[contrast_id] for c in contrast_list], \n",
    "                output_type = stats)\n",
    "                # Save results following BIDS standart\n",
    "                res_name = os.path.basename(bold[0]).split(\"run\")[0]\n",
    "                stats_map.to_filename(os.path.join(outdir, res_name + 'run-0' + str(run + 1) + '_' + 'desc-' + contrast_id + '_' + stats + '.nii.gz'))\n",
    "    \n",
    "    print(os.path.join(outdir, res_name + 'run-0' + str(run + 1) + '_' + 'desc-' + contrast_id + '_' + stats + '.nii.gz'))\n",
    "    "
   ]
  },
  {
   "cell_type": "code",
   "execution_count": 4,
   "metadata": {
    "tags": []
   },
   "outputs": [],
   "source": [
    "jason_file = os.path.join(ds_path, 'results', model_name, \"dataset_description.json\")\n",
    "\n",
    "if not os.path.exists(jason_file):\n",
    "    import json\n",
    "    import datetime\n",
    "    from importlib.metadata import version\n",
    "\n",
    "    nilearn_version = version('nilearn')\n",
    "    date_created = datetime.datetime.now()\n",
    "    \n",
    "    # Data to be written\n",
    "    content = {\n",
    "        \"Name\": \"First-level GLM analysis\",\n",
    "        \"BIDSVersion\": \"1.4.0\",\n",
    "        \"DatasetType\": \"results\",\n",
    "        \"GeneratedBy\": [\n",
    "            {\n",
    "                \"Name\": \"Nilearn\",\n",
    "                \"Version\": nilearn_version,\n",
    "                \"CodeURL\": \"https://nilearn.github.io\"\n",
    "            }\n",
    "        ],    \n",
    "        \"Date\": date_created,\n",
    "        \"FirstLevelModel\": [\n",
    "            fmri_glm.get_params()\n",
    "        ], \n",
    "    }\n",
    "    \n",
    "    # Serializing json\n",
    "    json_object = json.dumps(content, indent=4, default=str)\n",
    "    \n",
    "    # Writing to .json\n",
    "    with open(jason_file, \"w\") as outfile:\n",
    "        outfile.write(json_object)\n",
    "        "
   ]
  }
 ],
 "metadata": {
  "kernelspec": {
   "display_name": "Python 3 (ipykernel)",
   "language": "python",
   "name": "python3"
  },
  "language_info": {
   "codemirror_mode": {
    "name": "ipython",
    "version": 3
   },
   "file_extension": ".py",
   "mimetype": "text/x-python",
   "name": "python",
   "nbconvert_exporter": "python",
   "pygments_lexer": "ipython3",
   "version": "3.11.5"
  },
  "toc": {
   "base_numbering": 1,
   "nav_menu": {},
   "number_sections": true,
   "sideBar": true,
   "skip_h1_title": false,
   "title_cell": "Table of Contents",
   "title_sidebar": "Contents",
   "toc_cell": false,
   "toc_position": {
    "height": "calc(100% - 180px)",
    "left": "10px",
    "top": "150px",
    "width": "396.767px"
   },
   "toc_section_display": true,
   "toc_window_display": true
  },
  "varInspector": {
   "cols": {
    "lenName": 16,
    "lenType": 16,
    "lenVar": 40
   },
   "kernels_config": {
    "python": {
     "delete_cmd_postfix": "",
     "delete_cmd_prefix": "del ",
     "library": "var_list.py",
     "varRefreshCmd": "print(var_dic_list())"
    },
    "r": {
     "delete_cmd_postfix": ") ",
     "delete_cmd_prefix": "rm(",
     "library": "var_list.r",
     "varRefreshCmd": "cat(var_dic_list()) "
    }
   },
   "position": {
    "height": "874.85px",
    "left": "2183px",
    "right": "20px",
    "top": "116px",
    "width": "350px"
   },
   "types_to_exclude": [
    "module",
    "function",
    "builtin_function_or_method",
    "instance",
    "_Feature"
   ],
   "window_display": false
  },
  "vscode": {
   "interpreter": {
    "hash": "916dbcbb3f70747c44a77c7bcd40155683ae19c65e1c03b4aa3499c5328201f1"
   }
  }
 },
 "nbformat": 4,
 "nbformat_minor": 4
}
